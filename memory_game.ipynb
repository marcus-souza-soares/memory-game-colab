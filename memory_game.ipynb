{
  "cells": [
    {
      "cell_type": "code",
      "source": [
        "import random\n",
        "import time\n",
        "\n",
        "matriz_original = [['A', 'B', 'C', 'D'],\n",
        "                   ['E', 'F', 'G', 'H'],\n",
        "                   ['A', 'B', 'C', 'D'],\n",
        "                   ['E', 'F', 'G', 'H']]\n",
        "\n",
        "matriz = [['_', '_', '_', '_'],\n",
        "          ['_', '_', '_', '_'],\n",
        "          ['_', '_', '_', '_'],\n",
        "          ['_', '_', '_', '_']]\n",
        "\n",
        "def imprimir_matriz(matriz):\n",
        "    for linha in matriz:\n",
        "        print(linha)\n",
        "\n",
        "def embaralhar_matriz(matriz):\n",
        "    for linha in matriz:\n",
        "        random.shuffle(linha)\n",
        "    random.shuffle(matriz)\n",
        "\n",
        "def verifica_fim_de_jogo(matriz):\n",
        "  for linha in matriz:\n",
        "    if (\"_\" in linha) == True:\n",
        "      fim_de_jogo = False\n",
        "      return\n",
        "  print(\"Parabéns, você ganhou!\")\n",
        "  fim_de_jogo = True\n",
        "\n",
        "def escolher_carta(carta):\n",
        "  carta_linha, carta_coluna = int(carta[0]) - 1, int(carta[1]) - 1\n",
        "  carta_escolhida = matriz_original[carta_linha][carta_coluna]\n",
        "  print(\"Carta escolhida:\", carta_escolhida)\n",
        "  verifica_se_carta_ja_foi_escolhida(carta_escolhida)\n",
        "  printar_espacos()\n",
        "  return [carta_linha, carta_coluna]\n",
        "\n",
        "def printar_espacos():\n",
        "  print(\"\\n================================\")\n",
        "\n",
        "def verifica_se_carta_ja_foi_escolhida(carta):\n",
        "  while(carta in lista_de_acertos):\n",
        "    print(\"Essa carta já foi escolhida, tente outra!\")\n",
        "    carta = input().split()\n",
        "    printar_espacos()\n",
        "    carta = escolher_carta(carta)\n",
        "\n",
        "lista_de_acertos = []\n",
        "fim_de_jogo = False\n",
        "\n",
        "def jogar_jogo_da_memoria():\n",
        "  embaralhar_matriz(matriz_original)\n",
        "\n",
        "  while(fim_de_jogo == False):\n",
        "    time.sleep(1)\n",
        "    imprimir_matriz(matriz)\n",
        "    printar_espacos()\n",
        "    print(\"Escolha a primeira carta (linha coluna):\")\n",
        "    carta1 = input().split()\n",
        "    carta1 = escolher_carta(carta1)\n",
        "    print(\"Escolha a segunda carta (linha coluna):\")\n",
        "    carta2 = input().split()\n",
        "    carta2 = escolher_carta(carta2)\n",
        "\n",
        "    if carta1[0] == carta2[0] and carta1[1] == carta2[1]:\n",
        "       print(\"Escolhendo a mesma carta, né espertinho(a)! XD\")\n",
        "       printar_espacos()\n",
        "    elif matriz_original[carta1[0]][carta1[1]] == matriz_original[carta2[0]][carta2[1]]:\n",
        "      print(\"Parabéns, você acertou!\")\n",
        "      lista_de_acertos.append(matriz_original[carta1[0]][carta1[1]])\n",
        "      matriz[carta1[0]][carta1[1]] = matriz_original[carta1[0]][carta1[1]]\n",
        "      matriz[carta2[0]][carta2[1]] = matriz_original[carta2[0]][carta2[1]]\n",
        "      verifica_fim_de_jogo(matriz)\n",
        "    else:\n",
        "      print(\"Você errou, tente novamente.\")\n",
        "\n",
        "jogar_jogo_da_memoria()\n"
      ],
      "metadata": {
        "id": "j5fNr4uB1hmr"
      },
      "execution_count": null,
      "outputs": []
    },
    {
      "cell_type": "code",
      "execution_count": null,
      "metadata": {
        "colab": {
          "base_uri": "https://localhost:8080/"
        },
        "id": "quC-ZaYW82mB",
        "outputId": "9437afec-5556-448e-b2ea-907cac49db85"
      },
      "outputs": [
        {
          "data": {
            "text/plain": [
              "8.0"
            ]
          },
          "execution_count": 3,
          "metadata": {},
          "output_type": "execute_result"
        }
      ],
      "source": [
        "def raiz(num):\n",
        "  return num ** (1 / 2)\n",
        "\n",
        "raiz(64)"
      ]
    },
    {
      "cell_type": "code",
      "execution_count": null,
      "metadata": {
        "colab": {
          "base_uri": "https://localhost:8080/"
        },
        "id": "F_NAlPfH-gvg",
        "outputId": "80db45ea-4e10-45b1-b14a-80e9918cb3f0"
      },
      "outputs": [
        {
          "name": "stdout",
          "output_type": "stream",
          "text": [
            "[4, 1, -2, -5]\n",
            "[6, 3, 0, -3]\n",
            "[8, 5, 2, -1]\n"
          ]
        }
      ],
      "source": [
        "linhas = 3\n",
        "colunas = 4\n",
        "\n",
        "matriz = []\n",
        "for i in range(1, linhas + 1):\n",
        "    linha = []\n",
        "    for j in range(1, colunas + 1):\n",
        "        linha.append((i * 2) - (j * 3) + 5)\n",
        "    matriz.append(linha)\n",
        "\n",
        "for linha in matriz:\n",
        "    print(linha)"
      ]
    },
    {
      "cell_type": "code",
      "execution_count": null,
      "metadata": {
        "id": "MK8DoQqpBSes"
      },
      "outputs": [],
      "source": []
    },
    {
      "cell_type": "code",
      "execution_count": null,
      "metadata": {
        "id": "dzc80IM4B6sZ"
      },
      "outputs": [],
      "source": [
        "letra = input(\"Digite uma letra: \\n\")\n",
        "\n",
        "vogais = ['a', 'e', 'i', 'o', 'u']\n",
        "\n",
        "for i in vogais:\n",
        "  if(i == letra):\n",
        "    print('É uma vogal!')\n",
        "  elif(i == 'u'):\n",
        "    print('É uma consoante!')\n",
        "\n",
        ""
      ]
    },
    {
      "cell_type": "code",
      "execution_count": null,
      "metadata": {
        "id": "oszyPe3KCD-n"
      },
      "outputs": [],
      "source": []
    }
  ],
  "metadata": {
    "colab": {
      "provenance": []
    },
    "kernelspec": {
      "display_name": "Python 3",
      "name": "python3"
    },
    "language_info": {
      "name": "python"
    }
  },
  "nbformat": 4,
  "nbformat_minor": 0
}